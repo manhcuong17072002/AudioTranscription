{
 "cells": [
  {
   "cell_type": "code",
   "execution_count": 3,
   "id": "18b54bc6",
   "metadata": {},
   "outputs": [],
   "source": [
    "from google import genai\n",
    "from sources.core.api_key import *\n",
    "\n",
    "client = genai.Client(api_key=API_KEY2)\n",
    "\n",
    "myfile = client.files.upload(file = \"/home/hungnm/Documents/AudioTranscription/samples/vtv.mp3\")"
   ]
  },
  {
   "cell_type": "code",
   "execution_count": 4,
   "id": "0048ad4e",
   "metadata": {},
   "outputs": [
    {
     "data": {
      "text/plain": [
       "File(name='files/tq73ktw8r7nr', display_name=None, mime_type='audio/mpeg', size_bytes=6286452, create_time=datetime.datetime(2025, 4, 13, 15, 46, 58, 133997, tzinfo=TzInfo(UTC)), expiration_time=datetime.datetime(2025, 4, 15, 15, 46, 58, 100783, tzinfo=TzInfo(UTC)), update_time=datetime.datetime(2025, 4, 13, 15, 46, 58, 133997, tzinfo=TzInfo(UTC)), sha256_hash='MTA3ZWYyMWFiMGNhZWVlMGY3M2E4OWYxMjQ4ZDFkMTkzZjE0ZDE0NWNmNjg0NzBhMGYyMzg1N2ExZDA5YzQ0Ng==', uri='https://generativelanguage.googleapis.com/v1beta/files/tq73ktw8r7nr', download_uri=None, state=<FileState.ACTIVE: 'ACTIVE'>, source=<FileSource.UPLOADED: 'UPLOADED'>, video_metadata=None, error=None)"
      ]
     },
     "execution_count": 4,
     "metadata": {},
     "output_type": "execute_result"
    }
   ],
   "source": [
    "myfile"
   ]
  },
  {
   "cell_type": "code",
   "execution_count": 5,
   "id": "732aec0e",
   "metadata": {},
   "outputs": [],
   "source": [
    "response = client.models.generate_content(\n",
    "    model=\"gemini-2.0-flash\", contents=[\"Split audio thành những timestamp và transcript tương ứng với timestamp đó.\", myfile],\n",
    ")"
   ]
  },
  {
   "cell_type": "code",
   "execution_count": 8,
   "id": "357f40e0",
   "metadata": {},
   "outputs": [
    {
     "name": "stdout",
     "output_type": "stream",
     "text": [
      "Chắc chắn rồi, đây là nội dung bạn yêu cầu:\n",
      "\n",
      "* **00:00 - 00:17** Thưa quý vị, hội nghị Ban Chấp hành Trung ương lần thứ 11 khóa 13 bế mạc vào chiều qua, theo Tổng Bí thư Tô Lâm, đây là hội nghị lịch sử bàn về những quyết sách lịch sử trong giai đoạn cách mạng mới của đất nước ta.\n",
      "* **00:17 - 00:30** Tại hội nghị này, Ban Chấp hành Trung ương thống nhất cao chủ trương về tổ chức chính quyền địa phương hai cấp, gồm cấp tỉnh, thành phố trực thuộc Trung ương và cấp xã, phường.\n",
      "* **00:30 - 00:35** Đặc khu trực thuộc tỉnh, thành phố.\n",
      "* **00:35 - 00:42** Đồng thời thống nhất số lượng đơn vị hành chính cấp tỉnh sau sáp nhập còn 34 đơn vị, trong đó có 28 tỉnh và sáu thành phố trực thuộc Trung ương.\n",
      "* **00:42 - 00:57** Đối với cấp xã, Ban Chấp hành Trung ương thống nhất sáp nhập để đảm bảo cả nước giảm khoảng 60% đến 70% số lượng đơn vị hành chính cấp xã so với hiện nay.\n",
      "* **00:58 - 01:07** Việc sắp xếp đơn vị hành chính địa phương lần này được xây dựng trên tinh thần khoa học, đột phá, sáng tạo, bám sát thực tiễn với tầm nhìn xa trông rộng ít nhất là 100 năm.\n",
      "* **01:07 - 01:27** Đảm bảo hình thành và mở rộng không gian phát triển kinh tế, xã hội, văn hóa phù hợp với phát triển đất nước.\n",
      "* **01:27 - 01:48** Chính quyền địa phương sau sắp xếp phải đảm bảo tinh gọn, hiệu quả, gần dân, đáp ứng các yêu cầu quản trị xã hội hiện đại, thực hiện các mục tiêu tăng trưởng nhanh, bền vững, tạo thế và lực mới cho nhiệm vụ đảm bảo quốc phòng, an ninh, đối ngoại, tạo đà và động lực cho phát triển kinh tế.\n",
      "* **01:48 - 01:53** Trong đó chú trọng thúc đẩy kinh tế tư nhân.\n",
      "* **01:54 - 02:01** Đẩy nhanh phát triển khoa học, công nghệ, đổi mới sáng tạo.\n",
      "* **02:01 - 02:05** Chăm lo ngày một tốt hơn đời sống vật chất tinh thần của nhân dân.\n",
      "* **02:06 - 02:21** Việc tiếp tục sắp xếp tinh gọn tổ chức bộ máy của hệ thống chính trị là quyết sách chiến lược chưa từng có, với mục tiêu cao nhất kiến tạo sự phát triển bền vững của đất nước, chăm lo tốt hơn đời sống của nhân dân.\n",
      "* **02:21 - 02:28** Vâng và bởi vậy mà những quyết sách của Trung ương Đảng được cán bộ Đảng viên và nhân dân hết sức ủng hộ.\n",
      "* **02:28 - 02:33** Nhiều địa phương đã chuẩn bị tâm thế sẵn sàng cho cuộc sáp nhập lịch sử này.\n",
      "* **02:38 - 02:48** Sở Nội vụ tỉnh Lào Cai, một khối lượng công việc chưa từng có cho công cuộc sáp nhập đơn vị hành chính đang được các cán bộ nơi đây thực hiện.\n",
      "* **02:48 - 03:03** Chuẩn bị cho việc sáp nhập tỉnh và lên các phương án về chuẩn bị cho đợt sáp nhập xã trên quy mô toàn tỉnh.\n",
      "* **03:03 - 03:10** Theo đó 151 đơn vị hành chính cấp xã sẽ phải giảm khoảng 60 đến 70%, chỉ còn 45 đến 60 xã.\n",
      "* **03:11 - 03:21** Ngay sau cái hội nghị Trung ương chúng tôi sẽ bắt tay ngay vào cái việc hoàn thiện cái đề án sắp xếp đơn vị hành chính đảm bảo cái chất lượng trước khi báo cáo Đảng ủy, Ủy ban nhân dân tỉnh rồi ban thường vụ tỉnh ủy.\n",
      "* **03:21 - 03:30** và sẽ tổ chức xin ý kiến của nhân dân.\n",
      "* **03:30 - 03:39** Số lượng công việc có thể nói là rất là gấp rút và nó căn ke đến từng ngày từng giờ.\n",
      "* **03:39 - 03:48** Thực hiện tổ chức mô hình chính quyền địa phương hai cấp, chín đơn vị hành chính cấp huyện ở Lào Cai cũng đã sẵn sàng để dừng hoạt động từ ngày mùng 01 tháng 07 tới đây.\n",
      "* **03:48 - 04:00** Ban vụ tỉnh ủy cũng đã sẵn sàng chuẩn bị tâm thế để chỉ đạo cho các cái cơ quan chức năng để chuẩn bị các cái điều kiện sáp nhập đơn vị hành chính cấp xã.\n",
      "* **04:00 - 04:04** và kết thúc hoạt động của cấp huyện.\n",
      "* **04:04 - 04:10** Sau khi Quốc hội có cái nghị quyết chính thức để chúng ta thực hiện.\n",
      "* **04:10 - 04:21** Nhìn chung là cán bộ Đảng viên và nhân dân trên địa bàn cơ bản đồng tình ủng hộ với cái chủ trương này, bởi vì đây cũng là điều kiện tốt để chúng ta tinh giảm bộ máy để nâng cao cái hiệu lực hiệu quả.\n",
      "* **04:21 - 04:46** Bà con nhân dân cũng rất là đồng tình chủ trương sát nhập tỉnh rồi là xã rồi là bỏ cấp huyện như vậy thì là sẽ bớt được cái khâu trung gian từ đó thì bà con nhân dân chúng tôi cũng hiểu và Đảng và nhà nước cần dân nhất. mong rằng là trong thời gian tới thì Đảng và nhà nước để có thể đầu tư vào các cái công trình cũng như đường xá cho bà con ở trên vùng cao để chúng tôi đi lại nó thuận tiện.\n",
      "* **04:47 - 04:57** Ở tầm nhìn chiến lược, việc tiếp tục sắp xếp tổ chức bộ máy của hệ thống chính trị đảm bảo tinh gọn hoạt động hiệu năng, hiệu lực, hiệu quả.\n",
      "* **04:57 - 05:01** Hướng tới mục tiêu cao nhất là kiến tạo phát triển bền vững và chăm lo tốt hơn đời sống nhân dân.\n",
      "* **05:01 - 05:10** Còn với người dân, tin tưởng và ủng hộ chủ trương này bởi chính những lợi ích rất cụ thể.\n",
      "* **05:10 - 05:15** Từ năm học tới, các em nhỏ này đến trường, phụ huynh sẽ không phải lo đóng học phí.\n"
     ]
    }
   ],
   "source": [
    "print(response.text)"
   ]
  },
  {
   "cell_type": "code",
   "execution_count": null,
   "id": "21770510",
   "metadata": {},
   "outputs": [
    {
     "name": "stdout",
     "output_type": "stream",
     "text": [
      "   files/9n6e0wkz8h6j\n",
      "   files/9n6e0wkz8h6j\n",
      "   files/9uontkbuzbjf\n",
      "   files/9uontkbuzbjf\n"
     ]
    }
   ],
   "source": [
    "for f in client.files.list():\n",
    "    print(\"  \", f.name)\n",
    "    \n",
    "    # delete the file\n",
    "    client.files.delete(name = f.name)\n"
   ]
  },
  {
   "cell_type": "code",
   "execution_count": 45,
   "id": "109d90a1",
   "metadata": {},
   "outputs": [],
   "source": [
    "from google import genai\n",
    "from api_key import *\n",
    "from io import BytesIO\n",
    "\n",
    "client = genai.Client(api_key=API_KEY2)\n",
    "# Upload the audio file to Google GenAI\n",
    "filenames = [\"3.6.wav\", \"10.1.wav\"]\n",
    "\n",
    "uploaded_files = []\n",
    "\n",
    "for filename in filenames:\n",
    "    # Upload the file\n",
    "    file = client.files.upload(file=BytesIO(open(filename, \"rb\").read()), config={\"mime_type\": \"audio/wav\"})\n",
    "\n",
    "    # Add the uploaded file to the list\n",
    "    uploaded_files.append(file)\n",
    "\n"
   ]
  },
  {
   "cell_type": "code",
   "execution_count": 46,
   "id": "78afc201",
   "metadata": {},
   "outputs": [],
   "source": [
    "prompt = \"\"\"\n",
    "Please transcribe this audio file into text following these rules:\n",
    "Accurately transcribe the audio without adding or omitting any words. If parts of the audio are unclear, rely on contextual clues to infer the missing words.\n",
    "\n",
    "Ensure the entire transcript is in plain text format. Do not use any numerical formatting or special characters.3. The output must follow the structure below:\n",
    "```json \n",
    "[\n",
    "    {\n",
    "        \"Transcript\": \"The plain text transcription that accurately reflects the content of the audio.\",\n",
    "        \"Voice Description\": \"Provide a detailed description of the speaker's voice characteristics, including gender, tone, emotion, pronunciation, and speaking style. For example: A female speaker delivers a slightly expressive and animated speech with a very high-pitched voice, sounding very close-up in the recording. Almost no noise is present in the background, contributing to a clear and crisp listening experience. Each voice description must be distinct and not repeated across different entries.\"\n",
    "    }\n",
    "]\n",
    "```\n",
    "4. Do not add any information outside of the format above.\n",
    "\"\"\"\n",
    "\n",
    "response = client.models.generate_content(\n",
    "    model=\"gemini-2.0-flash\", contents=[prompt, uploaded_files],\n",
    ")"
   ]
  },
  {
   "cell_type": "code",
   "execution_count": 47,
   "id": "2cc80cea",
   "metadata": {},
   "outputs": [
    {
     "data": {
      "text/plain": [
       "'```json\\n[\\n    {\\n        \"Transcript\": \"Dưới ánh trăng sáng, bảy trẻ con trong xóm chơi đuổi bắt trên con đường đất dài ngoằn ngoèo, tiếng cười giòn tan vang khắp một góc làng.\",\\n        \"Voice Description\": \"A male speaker with a medium-pitched voice delivers the speech at a moderate pace with clear pronunciation and a storytelling tone, setting an evocative scene.\"\\n    },\\n    {\\n        \"Transcript\": \"Con người là trung tâm của mọi hoạt động trong xã hội hiện đại, với các mối quan hệ từ gia đình, bạn bè đến công việc, xã hội đóng vai trò quan trọng trong sự phát triển cá nhân và cộng đồng.\",\\n        \"Voice Description\": \"A female speaker speaks in a calm, controlled tone with a moderate pitch, indicating a formal context or informative delivery with a focus on clarity.\"\\n    }\\n]\\n```'"
      ]
     },
     "execution_count": 47,
     "metadata": {},
     "output_type": "execute_result"
    }
   ],
   "source": [
    "response.text"
   ]
  },
  {
   "cell_type": "code",
   "execution_count": 48,
   "id": "cf70c141",
   "metadata": {},
   "outputs": [
    {
     "data": {
      "text/markdown": [
       "```json\n",
       "[\n",
       "    {\n",
       "        \"Transcript\": \"Dưới ánh trăng sáng, bảy trẻ con trong xóm chơi đuổi bắt trên con đường đất dài ngoằn ngoèo, tiếng cười giòn tan vang khắp một góc làng.\",\n",
       "        \"Voice Description\": \"A male speaker with a medium-pitched voice delivers the speech at a moderate pace with clear pronunciation and a storytelling tone, setting an evocative scene.\"\n",
       "    },\n",
       "    {\n",
       "        \"Transcript\": \"Con người là trung tâm của mọi hoạt động trong xã hội hiện đại, với các mối quan hệ từ gia đình, bạn bè đến công việc, xã hội đóng vai trò quan trọng trong sự phát triển cá nhân và cộng đồng.\",\n",
       "        \"Voice Description\": \"A female speaker speaks in a calm, controlled tone with a moderate pitch, indicating a formal context or informative delivery with a focus on clarity.\"\n",
       "    }\n",
       "]\n",
       "```"
      ],
      "text/plain": [
       "<IPython.core.display.Markdown object>"
      ]
     },
     "execution_count": 48,
     "metadata": {},
     "output_type": "execute_result"
    }
   ],
   "source": [
    "from IPython.display import display, Markdown\n",
    "\n",
    "Markdown(response.text)"
   ]
  },
  {
   "cell_type": "code",
   "execution_count": 13,
   "id": "7514637f",
   "metadata": {},
   "outputs": [
    {
     "name": "stdout",
     "output_type": "stream",
     "text": [
      "0 4\n",
      "['Processed file1.wav', 'Processed file2.wav', 'Processed file3.wav', 'Processed file4.wav']\n",
      "4 8\n",
      "['Processed file5.wav', 'Processed file6.wav']\n"
     ]
    }
   ],
   "source": [
    "files = ['file1.wav', 'file2.wav', 'file3.wav', 'file4.wav', 'file5.wav', 'file6.wav']\n",
    "batch_size = 4\n",
    "max_retries = 3\n",
    "\n",
    "def process_batch(batch_files, max_retries):\n",
    "    # Giả lập việc xử lý file: trả về danh sách đã xử lý\n",
    "    return [f\"Processed {file}\" for file in batch_files]\n",
    "\n",
    "all_results = []\n",
    "\n",
    "for i in range(0, len(files), batch_size):\n",
    "    print(i, i + batch_size)\n",
    "    batch_files = files[i:i + batch_size]\n",
    "    batch_results = process_batch(batch_files, max_retries)\n",
    "    print(batch_results)\n"
   ]
  },
  {
   "cell_type": "code",
   "execution_count": null,
   "id": "5d7fc0c0",
   "metadata": {},
   "outputs": [],
   "source": []
  }
 ],
 "metadata": {
  "kernelspec": {
   "display_name": "AudioTranscription",
   "language": "python",
   "name": "python3"
  },
  "language_info": {
   "codemirror_mode": {
    "name": "ipython",
    "version": 3
   },
   "file_extension": ".py",
   "mimetype": "text/x-python",
   "name": "python",
   "nbconvert_exporter": "python",
   "pygments_lexer": "ipython3",
   "version": "3.10.16"
  }
 },
 "nbformat": 4,
 "nbformat_minor": 5
}
