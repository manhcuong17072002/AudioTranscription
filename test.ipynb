{
 "cells": [
  {
   "cell_type": "code",
   "execution_count": 5,
   "id": "18b54bc6",
   "metadata": {},
   "outputs": [],
   "source": [
    "from google import genai\n",
    "from api_key import *\n",
    "\n",
    "client = genai.Client(api_key=API_KEY2)\n",
    "\n",
    "myfile = client.files.upload(file=\"NHLy.wav\", config={\"name\": \"NHLy\".lower()})"
   ]
  },
  {
   "cell_type": "code",
   "execution_count": 6,
   "id": "0048ad4e",
   "metadata": {},
   "outputs": [
    {
     "data": {
      "text/plain": [
       "File(name='files/nhly', display_name=None, mime_type='audio/x-wav', size_bytes=6417870, create_time=datetime.datetime(2025, 4, 13, 9, 57, 48, 585376, tzinfo=TzInfo(UTC)), expiration_time=datetime.datetime(2025, 4, 15, 9, 57, 48, 551176, tzinfo=TzInfo(UTC)), update_time=datetime.datetime(2025, 4, 13, 9, 57, 48, 585376, tzinfo=TzInfo(UTC)), sha256_hash='MTYyODgzN2E2N2ZjYmU2NjQ0ZmI0YmEwMDAzZWNiMWEyY2FjNzY5ZTY0ZWIwMzgwZGY3MWY3M2U0N2M3YWJlMQ==', uri='https://generativelanguage.googleapis.com/v1beta/files/nhly', download_uri=None, state=<FileState.ACTIVE: 'ACTIVE'>, source=<FileSource.UPLOADED: 'UPLOADED'>, video_metadata=None, error=None)"
      ]
     },
     "execution_count": 6,
     "metadata": {},
     "output_type": "execute_result"
    }
   ],
   "source": [
    "myfile"
   ]
  },
  {
   "cell_type": "code",
   "execution_count": null,
   "id": "21770510",
   "metadata": {},
   "outputs": [
    {
     "name": "stdout",
     "output_type": "stream",
     "text": [
      "   files/9n6e0wkz8h6j\n",
      "   files/9n6e0wkz8h6j\n",
      "   files/9uontkbuzbjf\n",
      "   files/9uontkbuzbjf\n"
     ]
    }
   ],
   "source": [
    "for f in client.files.list():\n",
    "    print(\"  \", f.name)\n",
    "    \n",
    "    # delete the file\n",
    "    client.files.delete(name = f.name)\n"
   ]
  },
  {
   "cell_type": "code",
   "execution_count": 45,
   "id": "109d90a1",
   "metadata": {},
   "outputs": [],
   "source": [
    "from google import genai\n",
    "from api_key import *\n",
    "from io import BytesIO\n",
    "\n",
    "client = genai.Client(api_key=API_KEY2)\n",
    "# Upload the audio file to Google GenAI\n",
    "filenames = [\"3.6.wav\", \"10.1.wav\"]\n",
    "\n",
    "uploaded_files = []\n",
    "\n",
    "for filename in filenames:\n",
    "    # Upload the file\n",
    "    file = client.files.upload(file=BytesIO(open(filename, \"rb\").read()), config={\"mime_type\": \"audio/wav\"})\n",
    "\n",
    "    # Add the uploaded file to the list\n",
    "    uploaded_files.append(file)\n",
    "\n"
   ]
  },
  {
   "cell_type": "code",
   "execution_count": 46,
   "id": "78afc201",
   "metadata": {},
   "outputs": [],
   "source": [
    "prompt = \"\"\"\n",
    "Please transcribe this audio file into text following these rules:\n",
    "Accurately transcribe the audio without adding or omitting any words. If parts of the audio are unclear, rely on contextual clues to infer the missing words.\n",
    "\n",
    "Ensure the entire transcript is in plain text format. Do not use any numerical formatting or special characters.3. The output must follow the structure below:\n",
    "```json \n",
    "[\n",
    "    {\n",
    "        \"Transcript\": \"The plain text transcription that accurately reflects the content of the audio.\",\n",
    "        \"Voice Description\": \"Provide a detailed description of the speaker's voice characteristics, including gender, tone, emotion, pronunciation, and speaking style. For example: A female speaker delivers a slightly expressive and animated speech with a very high-pitched voice, sounding very close-up in the recording. Almost no noise is present in the background, contributing to a clear and crisp listening experience. Each voice description must be distinct and not repeated across different entries.\"\n",
    "    }\n",
    "]\n",
    "```\n",
    "4. Do not add any information outside of the format above.\n",
    "\"\"\"\n",
    "\n",
    "response = client.models.generate_content(\n",
    "    model=\"gemini-2.0-flash\", contents=[prompt, uploaded_files],\n",
    ")"
   ]
  },
  {
   "cell_type": "code",
   "execution_count": 47,
   "id": "2cc80cea",
   "metadata": {},
   "outputs": [
    {
     "data": {
      "text/plain": [
       "'```json\\n[\\n    {\\n        \"Transcript\": \"Dưới ánh trăng sáng, bảy trẻ con trong xóm chơi đuổi bắt trên con đường đất dài ngoằn ngoèo, tiếng cười giòn tan vang khắp một góc làng.\",\\n        \"Voice Description\": \"A male speaker with a medium-pitched voice delivers the speech at a moderate pace with clear pronunciation and a storytelling tone, setting an evocative scene.\"\\n    },\\n    {\\n        \"Transcript\": \"Con người là trung tâm của mọi hoạt động trong xã hội hiện đại, với các mối quan hệ từ gia đình, bạn bè đến công việc, xã hội đóng vai trò quan trọng trong sự phát triển cá nhân và cộng đồng.\",\\n        \"Voice Description\": \"A female speaker speaks in a calm, controlled tone with a moderate pitch, indicating a formal context or informative delivery with a focus on clarity.\"\\n    }\\n]\\n```'"
      ]
     },
     "execution_count": 47,
     "metadata": {},
     "output_type": "execute_result"
    }
   ],
   "source": [
    "response.text"
   ]
  },
  {
   "cell_type": "code",
   "execution_count": 48,
   "id": "cf70c141",
   "metadata": {},
   "outputs": [
    {
     "data": {
      "text/markdown": [
       "```json\n",
       "[\n",
       "    {\n",
       "        \"Transcript\": \"Dưới ánh trăng sáng, bảy trẻ con trong xóm chơi đuổi bắt trên con đường đất dài ngoằn ngoèo, tiếng cười giòn tan vang khắp một góc làng.\",\n",
       "        \"Voice Description\": \"A male speaker with a medium-pitched voice delivers the speech at a moderate pace with clear pronunciation and a storytelling tone, setting an evocative scene.\"\n",
       "    },\n",
       "    {\n",
       "        \"Transcript\": \"Con người là trung tâm của mọi hoạt động trong xã hội hiện đại, với các mối quan hệ từ gia đình, bạn bè đến công việc, xã hội đóng vai trò quan trọng trong sự phát triển cá nhân và cộng đồng.\",\n",
       "        \"Voice Description\": \"A female speaker speaks in a calm, controlled tone with a moderate pitch, indicating a formal context or informative delivery with a focus on clarity.\"\n",
       "    }\n",
       "]\n",
       "```"
      ],
      "text/plain": [
       "<IPython.core.display.Markdown object>"
      ]
     },
     "execution_count": 48,
     "metadata": {},
     "output_type": "execute_result"
    }
   ],
   "source": [
    "from IPython.display import display, Markdown\n",
    "\n",
    "Markdown(response.text)"
   ]
  },
  {
   "cell_type": "code",
   "execution_count": null,
   "id": "7514637f",
   "metadata": {},
   "outputs": [],
   "source": []
  }
 ],
 "metadata": {
  "kernelspec": {
   "display_name": "AudioTranscription",
   "language": "python",
   "name": "python3"
  },
  "language_info": {
   "codemirror_mode": {
    "name": "ipython",
    "version": 3
   },
   "file_extension": ".py",
   "mimetype": "text/x-python",
   "name": "python",
   "nbconvert_exporter": "python",
   "pygments_lexer": "ipython3",
   "version": "3.10.16"
  }
 },
 "nbformat": 4,
 "nbformat_minor": 5
}
